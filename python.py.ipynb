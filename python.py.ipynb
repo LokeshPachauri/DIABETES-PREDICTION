{
 "cells": [
  {
   "cell_type": "code",
   "execution_count": 3,
   "id": "c6c1222c",
   "metadata": {},
   "outputs": [
    {
     "name": "stdout",
     "output_type": "stream",
     "text": [
      "lokesh\n",
      "6\n",
      "100\n"
     ]
    }
   ],
   "source": [
    "print('lokesh')\n",
    "print(6)\n",
    "print(10*10)"
   ]
  },
  {
   "cell_type": "code",
   "execution_count": 10,
   "id": "a1a9879b",
   "metadata": {},
   "outputs": [
    {
     "name": "stdout",
     "output_type": "stream",
     "text": [
      "ram is good boy\n",
      "and shyam also \n",
      "6lk7lk8lk9\n",
      "lokesh\n"
     ]
    }
   ],
   "source": [
    "print('ram is good boy\\nand shyam also ')\n",
    "print(6,7,8,9,sep=\"lk\",end=\"\\n\")\n",
    "print(\"lokesh\")"
   ]
  },
  {
   "cell_type": "code",
   "execution_count": null,
   "id": "ee1b9094",
   "metadata": {},
   "outputs": [],
   "source": []
  }
 ],
 "metadata": {
  "kernelspec": {
   "display_name": "Python 3 (ipykernel)",
   "language": "python",
   "name": "python3"
  },
  "language_info": {
   "codemirror_mode": {
    "name": "ipython",
    "version": 3
   },
   "file_extension": ".py",
   "mimetype": "text/x-python",
   "name": "python",
   "nbconvert_exporter": "python",
   "pygments_lexer": "ipython3",
   "version": "3.9.12"
  }
 },
 "nbformat": 4,
 "nbformat_minor": 5
}
